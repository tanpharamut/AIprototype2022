{
  "nbformat": 4,
  "nbformat_minor": 0,
  "metadata": {
    "colab": {
      "name": "Cloud DB and AI.ipynb",
      "provenance": [],
      "include_colab_link": true
    },
    "kernelspec": {
      "name": "python3",
      "display_name": "Python 3"
    },
    "language_info": {
      "name": "python"
    }
  },
  "cells": [
    {
      "cell_type": "markdown",
      "metadata": {
        "id": "view-in-github",
        "colab_type": "text"
      },
      "source": [
        "<a href=\"https://colab.research.google.com/github/tanpharamut/AIprototype2022/blob/main/Cloud_DB_and_AI.ipynb\" target=\"_parent\"><img src=\"https://colab.research.google.com/assets/colab-badge.svg\" alt=\"Open In Colab\"/></a>"
      ]
    },
    {
      "cell_type": "code",
      "execution_count": 1,
      "metadata": {
        "colab": {
          "base_uri": "https://localhost:8080/"
        },
        "id": "M4Ll3WA7GAOS",
        "outputId": "a5adb0c4-91bb-4ce4-e297-acba00df1078"
      },
      "outputs": [
        {
          "output_type": "stream",
          "name": "stdout",
          "text": [
            "Collecting azure-data-tables\n",
            "  Downloading azure_data_tables-12.2.0-py2.py3-none-any.whl (108 kB)\n",
            "\u001b[?25l\r\u001b[K     |███                             | 10 kB 22.3 MB/s eta 0:00:01\r\u001b[K     |██████                          | 20 kB 26.8 MB/s eta 0:00:01\r\u001b[K     |█████████                       | 30 kB 30.8 MB/s eta 0:00:01\r\u001b[K     |████████████▏                   | 40 kB 35.0 MB/s eta 0:00:01\r\u001b[K     |███████████████▏                | 51 kB 38.9 MB/s eta 0:00:01\r\u001b[K     |██████████████████▏             | 61 kB 27.1 MB/s eta 0:00:01\r\u001b[K     |█████████████████████▏          | 71 kB 25.8 MB/s eta 0:00:01\r\u001b[K     |████████████████████████▎       | 81 kB 27.0 MB/s eta 0:00:01\r\u001b[K     |███████████████████████████▎    | 92 kB 23.4 MB/s eta 0:00:01\r\u001b[K     |██████████████████████████████▎ | 102 kB 24.8 MB/s eta 0:00:01\r\u001b[K     |████████████████████████████████| 108 kB 24.8 MB/s \n",
            "\u001b[?25hCollecting azure-core<2.0.0,>=1.14.0\n",
            "  Downloading azure_core-1.22.0-py3-none-any.whl (178 kB)\n",
            "\u001b[K     |████████████████████████████████| 178 kB 62.2 MB/s \n",
            "\u001b[?25hCollecting msrest>=0.6.21\n",
            "  Downloading msrest-0.6.21-py2.py3-none-any.whl (85 kB)\n",
            "\u001b[K     |████████████████████████████████| 85 kB 2.9 MB/s \n",
            "\u001b[?25hRequirement already satisfied: requests>=2.18.4 in /usr/local/lib/python3.7/dist-packages (from azure-core<2.0.0,>=1.14.0->azure-data-tables) (2.23.0)\n",
            "Requirement already satisfied: six>=1.11.0 in /usr/local/lib/python3.7/dist-packages (from azure-core<2.0.0,>=1.14.0->azure-data-tables) (1.15.0)\n",
            "Requirement already satisfied: certifi>=2017.4.17 in /usr/local/lib/python3.7/dist-packages (from msrest>=0.6.21->azure-data-tables) (2021.10.8)\n",
            "Collecting isodate>=0.6.0\n",
            "  Downloading isodate-0.6.1-py2.py3-none-any.whl (41 kB)\n",
            "\u001b[K     |████████████████████████████████| 41 kB 579 kB/s \n",
            "\u001b[?25hRequirement already satisfied: requests-oauthlib>=0.5.0 in /usr/local/lib/python3.7/dist-packages (from msrest>=0.6.21->azure-data-tables) (1.3.1)\n",
            "Requirement already satisfied: idna<3,>=2.5 in /usr/local/lib/python3.7/dist-packages (from requests>=2.18.4->azure-core<2.0.0,>=1.14.0->azure-data-tables) (2.10)\n",
            "Requirement already satisfied: chardet<4,>=3.0.2 in /usr/local/lib/python3.7/dist-packages (from requests>=2.18.4->azure-core<2.0.0,>=1.14.0->azure-data-tables) (3.0.4)\n",
            "Requirement already satisfied: urllib3!=1.25.0,!=1.25.1,<1.26,>=1.21.1 in /usr/local/lib/python3.7/dist-packages (from requests>=2.18.4->azure-core<2.0.0,>=1.14.0->azure-data-tables) (1.24.3)\n",
            "Requirement already satisfied: oauthlib>=3.0.0 in /usr/local/lib/python3.7/dist-packages (from requests-oauthlib>=0.5.0->msrest>=0.6.21->azure-data-tables) (3.2.0)\n",
            "Installing collected packages: isodate, msrest, azure-core, azure-data-tables\n",
            "Successfully installed azure-core-1.22.0 azure-data-tables-12.2.0 isodate-0.6.1 msrest-0.6.21\n"
          ]
        }
      ],
      "source": [
        "pip install azure-data-tables"
      ]
    },
    {
      "cell_type": "markdown",
      "source": [
        "## Azure Table (CloudDB)\n",
        "\n",
        "1. create DB on Azure Protal\n",
        "2. Insert Data\n",
        "3. Query Data"
      ],
      "metadata": {
        "id": "DPatSclBKLrh"
      }
    },
    {
      "cell_type": "code",
      "source": [
        "from azure.data.tables import TableServiceClient\n",
        "from azure.data.tables import TableEntity"
      ],
      "metadata": {
        "id": "KG16_w9uKBmg"
      },
      "execution_count": 2,
      "outputs": []
    },
    {
      "cell_type": "code",
      "source": [
        "table_service = TableServiceClient.from_connection_string(conn_str='DefaultEndpointsProtocol=https;AccountName=aiprototypetanboy2;AccountKey=rHOcYZTV6hvH4MuFPlfMcVDL7UhkSUS4rUcZh3Z7L/9rB5JFeM95YzbOKjPgEOuSVtjBFC+yNabK+AStKr3cWQ==;EndpointSuffix=core.windows.net')"
      ],
      "metadata": {
        "id": "u6-xIhiRMhxs"
      },
      "execution_count": 6,
      "outputs": []
    },
    {
      "cell_type": "markdown",
      "source": [
        "## Insert Data"
      ],
      "metadata": {
        "id": "4bizPlcKKjpW"
      }
    },
    {
      "cell_type": "code",
      "source": [
        "table_client = table_service.get_table_client(table_name=\"testdb\")"
      ],
      "metadata": {
        "id": "y1JVl0N9NShx"
      },
      "execution_count": 9,
      "outputs": []
    },
    {
      "cell_type": "code",
      "source": [
        "task = TableEntity()\n",
        "task[u'PartitionKey'] = u'part1'\n",
        "task[u'RowKey'] = u'001'\n",
        "task[u'name'] = u'tanboy'\n",
        "task[u'age'] = 21\n",
        "table_client.create_entity(task)"
      ],
      "metadata": {
        "colab": {
          "base_uri": "https://localhost:8080/"
        },
        "id": "671zVqysL0AK",
        "outputId": "da63c14a-6887-43d1-bfec-008c98a07527"
      },
      "execution_count": 10,
      "outputs": [
        {
          "output_type": "execute_result",
          "data": {
            "text/plain": [
              "{'date': datetime.datetime(2022, 2, 8, 3, 25, 29, tzinfo=datetime.timezone.utc),\n",
              " 'etag': 'W/\"datetime\\'2022-02-08T03%3A25%3A29.4046705Z\\'\"',\n",
              " 'version': '2019-02-02'}"
            ]
          },
          "metadata": {},
          "execution_count": 10
        }
      ]
    },
    {
      "cell_type": "code",
      "source": [
        "task = {u'PartitionKey': u'part1', u'RowKey': u'002',\n",
        "        u'name': u'leah', u'place': 'stardew valley',u'age':23}\n",
        "table_client.create_entity(entity=task)"
      ],
      "metadata": {
        "colab": {
          "base_uri": "https://localhost:8080/"
        },
        "id": "dhLA7cbDOXOE",
        "outputId": "9d4177fd-06e8-4764-d6f2-7842385d68f7"
      },
      "execution_count": 11,
      "outputs": [
        {
          "output_type": "execute_result",
          "data": {
            "text/plain": [
              "{'date': datetime.datetime(2022, 2, 8, 3, 25, 32, tzinfo=datetime.timezone.utc),\n",
              " 'etag': 'W/\"datetime\\'2022-02-08T03%3A25%3A32.5328719Z\\'\"',\n",
              " 'version': '2019-02-02'}"
            ]
          },
          "metadata": {},
          "execution_count": 11
        }
      ]
    },
    {
      "cell_type": "markdown",
      "source": [
        "##Query"
      ],
      "metadata": {
        "id": "LZfT5vg0THon"
      }
    },
    {
      "cell_type": "markdown",
      "source": [
        "query by partitonkey&roekey\n"
      ],
      "metadata": {
        "id": "Er0ExUBqTQu3"
      }
    },
    {
      "cell_type": "code",
      "source": [
        "table_Client = table_service.get_table_client(table_name=\"testdb\")"
      ],
      "metadata": {
        "id": "we-dOZ-PPIW6"
      },
      "execution_count": 12,
      "outputs": []
    },
    {
      "cell_type": "code",
      "source": [
        "task = table_client.get_entity('part1','002')\n",
        "print(task)"
      ],
      "metadata": {
        "id": "ihfP76hFWFLj",
        "outputId": "f5710b2b-055e-4514-a71c-1c88bbc455b4",
        "colab": {
          "base_uri": "https://localhost:8080/"
        }
      },
      "execution_count": 14,
      "outputs": [
        {
          "output_type": "stream",
          "name": "stdout",
          "text": [
            "{'PartitionKey': 'part1', 'RowKey': '002', 'name': 'leah', 'place': 'stardew valley', 'age': 23}\n"
          ]
        }
      ]
    },
    {
      "cell_type": "code",
      "source": [
        "for i in range(10):\n",
        "    task = {u'PartitionKey': u'partQ', u'RowKey': f'00{i+10}',\n",
        "            u'name': u'python', u'place': u'stardew valley',u'age':i}\n",
        "    table_client.create_entity(entity=task)"
      ],
      "metadata": {
        "id": "eYuihj0HWQAr"
      },
      "execution_count": 21,
      "outputs": []
    },
    {
      "cell_type": "markdown",
      "source": [
        "##Query by logic ดึงข้อมุลมาประมวลผลต่อ"
      ],
      "metadata": {
        "id": "UVghVZDRYcA5"
      }
    },
    {
      "cell_type": "code",
      "source": [
        "tasks = table_client.query_entities(query_filter=\"age gt 5\")\n",
        "print(tasks)"
      ],
      "metadata": {
        "id": "-5x6i9huXpte",
        "outputId": "0af9bad9-49ea-4ccc-8d81-c36d85b5555b",
        "colab": {
          "base_uri": "https://localhost:8080/"
        }
      },
      "execution_count": 28,
      "outputs": [
        {
          "output_type": "stream",
          "name": "stdout",
          "text": [
            "<iterator object azure.core.paging.ItemPaged at 0x7f120a5c0f10>\n"
          ]
        }
      ]
    },
    {
      "cell_type": "code",
      "source": [
        "for t in tasks:\n",
        "    print(t)"
      ],
      "metadata": {
        "id": "a26nlTO1X62n",
        "outputId": "cb8347ee-ca73-41f6-dcd8-3d5756d3b0f2",
        "colab": {
          "base_uri": "https://localhost:8080/"
        }
      },
      "execution_count": 29,
      "outputs": [
        {
          "output_type": "stream",
          "name": "stdout",
          "text": [
            "{'PartitionKey': 'part1', 'RowKey': '001', 'name': 'tanboy', 'age': 21}\n",
            "{'PartitionKey': 'part1', 'RowKey': '002', 'name': 'leah', 'place': 'stardew valley', 'age': 23}\n",
            "{'PartitionKey': 'partQ', 'RowKey': '0016', 'name': 'python', 'place': 'stardew valley', 'age': 6}\n",
            "{'PartitionKey': 'partQ', 'RowKey': '0017', 'name': 'python', 'place': 'stardew valley', 'age': 7}\n",
            "{'PartitionKey': 'partQ', 'RowKey': '0018', 'name': 'python', 'place': 'stardew valley', 'age': 8}\n",
            "{'PartitionKey': 'partQ', 'RowKey': '0019', 'name': 'python', 'place': 'stardew valley', 'age': 9}\n"
          ]
        }
      ]
    },
    {
      "cell_type": "code",
      "source": [
        ""
      ],
      "metadata": {
        "id": "UQOuhLzvZYwL"
      },
      "execution_count": null,
      "outputs": []
    }
  ]
}